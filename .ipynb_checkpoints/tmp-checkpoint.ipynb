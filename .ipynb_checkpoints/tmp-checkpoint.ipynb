{
 "cells": [
  {
   "cell_type": "code",
   "execution_count": 31,
   "metadata": {},
   "outputs": [],
   "source": [
    "import datetime as dt\n",
    "\n",
    "from matplotlib import pyplot as plt\n",
    "import pandas as pd\n",
    "import pandas_datareader as pdr"
   ]
  },
  {
   "cell_type": "code",
   "execution_count": 34,
   "metadata": {},
   "outputs": [],
   "source": [
    "# Se lee el csv con la lista de tickers y nos quedamos únicamente con el Symbol.\n",
    "tickers_list = pd.read_csv(\"data/tickers_list.csv\", usecols=[\"Symbol\"])\n",
    "tickers_list.index = tickers_list[\"Symbol\"]"
   ]
  },
  {
   "cell_type": "code",
   "execution_count": 35,
   "metadata": {},
   "outputs": [],
   "source": [
    "# Rango de fechas para trabajar\n",
    "start_date = dt.datetime(2018, 1, 1)\n",
    "end_date = dt.datetime(2020, 1, 1)"
   ]
  },
  {
   "cell_type": "code",
   "execution_count": 36,
   "metadata": {},
   "outputs": [
    {
     "name": "stderr",
     "output_type": "stream",
     "text": [
      "/home/luis/anaconda3/lib/python3.7/site-packages/pandas_datareader/base.py:272: SymbolWarning: Failed to read symbol: 'ABNB.MX', replacing with NaN.\n",
      "  warnings.warn(msg.format(sym), SymbolWarning)\n"
     ]
    }
   ],
   "source": [
    "data = pdr.DataReader(name=tickers_list[:10], data_source=\"yahoo\", start=start_date, end=end_date)[\"Adj Close\"]"
   ]
  },
  {
   "cell_type": "code",
   "execution_count": 38,
   "metadata": {},
   "outputs": [
    {
     "data": {
      "text/html": [
       "<div>\n",
       "<style scoped>\n",
       "    .dataframe tbody tr th:only-of-type {\n",
       "        vertical-align: middle;\n",
       "    }\n",
       "\n",
       "    .dataframe tbody tr th {\n",
       "        vertical-align: top;\n",
       "    }\n",
       "\n",
       "    .dataframe thead th {\n",
       "        text-align: right;\n",
       "    }\n",
       "</style>\n",
       "<table border=\"1\" class=\"dataframe\">\n",
       "  <thead>\n",
       "    <tr style=\"text-align: right;\">\n",
       "      <th>Symbols</th>\n",
       "      <th>ADSK.MX</th>\n",
       "      <th>AMXA.MX</th>\n",
       "      <th>AMXL.MX</th>\n",
       "      <th>ATVI.MX</th>\n",
       "      <th>ACOFN.MX</th>\n",
       "      <th>AIN.MX</th>\n",
       "      <th>ADI.MX</th>\n",
       "      <th>AIRN.MX</th>\n",
       "      <th>ANTM.MX</th>\n",
       "      <th>ABNB.MX</th>\n",
       "    </tr>\n",
       "    <tr>\n",
       "      <th>Date</th>\n",
       "      <th></th>\n",
       "      <th></th>\n",
       "      <th></th>\n",
       "      <th></th>\n",
       "      <th></th>\n",
       "      <th></th>\n",
       "      <th></th>\n",
       "      <th></th>\n",
       "      <th></th>\n",
       "      <th></th>\n",
       "    </tr>\n",
       "  </thead>\n",
       "  <tbody>\n",
       "    <tr>\n",
       "      <th>2018-01-02</th>\n",
       "      <td>2038.000000</td>\n",
       "      <td>15.323005</td>\n",
       "      <td>15.355458</td>\n",
       "      <td>1256.480591</td>\n",
       "      <td>790.669800</td>\n",
       "      <td>2223.477783</td>\n",
       "      <td>NaN</td>\n",
       "      <td>NaN</td>\n",
       "      <td>4456.856445</td>\n",
       "      <td>NaN</td>\n",
       "    </tr>\n",
       "    <tr>\n",
       "      <th>2018-01-03</th>\n",
       "      <td>2048.000000</td>\n",
       "      <td>15.323005</td>\n",
       "      <td>15.032562</td>\n",
       "      <td>1256.480591</td>\n",
       "      <td>790.669800</td>\n",
       "      <td>2223.477783</td>\n",
       "      <td>NaN</td>\n",
       "      <td>NaN</td>\n",
       "      <td>4456.856445</td>\n",
       "      <td>NaN</td>\n",
       "    </tr>\n",
       "    <tr>\n",
       "      <th>2018-01-04</th>\n",
       "      <td>2048.000000</td>\n",
       "      <td>15.323005</td>\n",
       "      <td>15.032562</td>\n",
       "      <td>1250.487915</td>\n",
       "      <td>822.936035</td>\n",
       "      <td>2271.487549</td>\n",
       "      <td>NaN</td>\n",
       "      <td>NaN</td>\n",
       "      <td>4456.856445</td>\n",
       "      <td>NaN</td>\n",
       "    </tr>\n",
       "    <tr>\n",
       "      <th>2018-01-05</th>\n",
       "      <td>2121.179932</td>\n",
       "      <td>15.323005</td>\n",
       "      <td>15.059470</td>\n",
       "      <td>1267.966797</td>\n",
       "      <td>822.936035</td>\n",
       "      <td>2271.487549</td>\n",
       "      <td>NaN</td>\n",
       "      <td>NaN</td>\n",
       "      <td>4456.856445</td>\n",
       "      <td>NaN</td>\n",
       "    </tr>\n",
       "    <tr>\n",
       "      <th>2018-01-08</th>\n",
       "      <td>2121.179932</td>\n",
       "      <td>15.323005</td>\n",
       "      <td>15.229888</td>\n",
       "      <td>1267.966797</td>\n",
       "      <td>822.936035</td>\n",
       "      <td>2271.487549</td>\n",
       "      <td>NaN</td>\n",
       "      <td>NaN</td>\n",
       "      <td>4456.856445</td>\n",
       "      <td>NaN</td>\n",
       "    </tr>\n",
       "  </tbody>\n",
       "</table>\n",
       "</div>"
      ],
      "text/plain": [
       "Symbols         ADSK.MX    AMXA.MX    AMXL.MX      ATVI.MX    ACOFN.MX  \\\n",
       "Date                                                                     \n",
       "2018-01-02  2038.000000  15.323005  15.355458  1256.480591  790.669800   \n",
       "2018-01-03  2048.000000  15.323005  15.032562  1256.480591  790.669800   \n",
       "2018-01-04  2048.000000  15.323005  15.032562  1250.487915  822.936035   \n",
       "2018-01-05  2121.179932  15.323005  15.059470  1267.966797  822.936035   \n",
       "2018-01-08  2121.179932  15.323005  15.229888  1267.966797  822.936035   \n",
       "\n",
       "Symbols          AIN.MX  ADI.MX  AIRN.MX      ANTM.MX  ABNB.MX  \n",
       "Date                                                            \n",
       "2018-01-02  2223.477783     NaN      NaN  4456.856445      NaN  \n",
       "2018-01-03  2223.477783     NaN      NaN  4456.856445      NaN  \n",
       "2018-01-04  2271.487549     NaN      NaN  4456.856445      NaN  \n",
       "2018-01-05  2271.487549     NaN      NaN  4456.856445      NaN  \n",
       "2018-01-08  2271.487549     NaN      NaN  4456.856445      NaN  "
      ]
     },
     "execution_count": 38,
     "metadata": {},
     "output_type": "execute_result"
    }
   ],
   "source": [
    "data.head()"
   ]
  },
  {
   "cell_type": "code",
   "execution_count": null,
   "metadata": {},
   "outputs": [],
   "source": []
  }
 ],
 "metadata": {
  "kernelspec": {
   "display_name": "Python 3",
   "language": "python",
   "name": "python3"
  },
  "language_info": {
   "codemirror_mode": {
    "name": "ipython",
    "version": 3
   },
   "file_extension": ".py",
   "mimetype": "text/x-python",
   "name": "python",
   "nbconvert_exporter": "python",
   "pygments_lexer": "ipython3",
   "version": "3.7.4"
  }
 },
 "nbformat": 4,
 "nbformat_minor": 4
}
